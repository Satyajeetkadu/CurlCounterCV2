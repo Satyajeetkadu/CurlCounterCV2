{
 "cells": [
  {
   "cell_type": "code",
   "execution_count": 2,
   "metadata": {},
   "outputs": [],
   "source": [
    "import cv2\n",
    "import numpy as np"
   ]
  },
  {
   "cell_type": "code",
   "execution_count": 3,
   "metadata": {},
   "outputs": [],
   "source": [
    "image_path = \"/Users/satyajeetkadu/Documents/Sem-9/IP LAB/ipproj/Fit.png\""
   ]
  },
  {
   "cell_type": "code",
   "execution_count": 5,
   "metadata": {},
   "outputs": [],
   "source": [
    "human_cascade = cv2.CascadeClassifier('/Users/satyajeetkadu/Documents/Sem-9/IP LAB/ipproj/haarcascade_fullbody.xml')\n",
    "\n",
    "def detect_human(image_path):\n",
    "    # Load the image\n",
    "    image = cv2.imread(image_path)\n",
    "    resized_image = cv2.resize(image, (224, 224))\n",
    "\n",
    "\n",
    "    # Convert the image to grayscale for human detection\n",
    "    gray = cv2.cvtColor(resized_image, cv2.COLOR_BGR2GRAY)\n",
    "\n",
    "    # Detect humans in the image\n",
    "    humans = human_cascade.detectMultiScale(gray, scaleFactor=1.1, minNeighbors=5)\n",
    "\n",
    "    # Draw rectangles around detected humans\n",
    "    for (x, y, w, h) in humans:\n",
    "        cv2.rectangle(gray, (x, y), (x + w, y + h), (0, 255, 0), 2)\n",
    "\n",
    "    return gray"
   ]
  },
  {
   "cell_type": "code",
   "execution_count": 4,
   "metadata": {},
   "outputs": [],
   "source": [
    "image_with_humans = detect_human(image_path)\n"
   ]
  },
  {
   "cell_type": "code",
   "execution_count": 5,
   "metadata": {},
   "outputs": [],
   "source": [
    "cv2.imshow(\"Image with Detected Humans\", image_with_humans)\n",
    "cv2.waitKey(0)\n",
    "cv2.destroyAllWindows()"
   ]
  },
  {
   "cell_type": "code",
   "execution_count": 5,
   "metadata": {},
   "outputs": [],
   "source": [
    "def find_shoulder_and_waist(image_path):\n",
    "    # Load the image\n",
    "    image = cv2.imread(image_path)\n",
    "    \n",
    "    # Convert the image to grayscale\n",
    "    gray = cv2.cvtColor(image, cv2.COLOR_BGR2GRAY)\n",
    "\n",
    "    # Apply edge detection (Canny)\n",
    "    edges = cv2.Canny(gray, threshold1=30, threshold2=100)\n",
    "\n",
    "    # Find contours in the edge-detected image\n",
    "    contours, _ = cv2.findContours(edges, cv2.RETR_EXTERNAL, cv2.CHAIN_APPROX_SIMPLE)\n",
    "\n",
    "    # Sort the contours by area in descending order\n",
    "    contours = sorted(contours, key=cv2.contourArea, reverse=True)\n",
    "\n",
    "    # Detect the shoulder and waist contours (you may need to adapt this part to your specific images)\n",
    "    shoulder_contour = contours[0]  # Assuming the largest contour is the shoulder\n",
    "    waist_contour = contours[1]  # Assuming the second largest contour is the waist\n",
    "\n",
    "    # Find the coordinates of the extreme points of the shoulder and waist contours\n",
    "    shoulder_leftmost = tuple(shoulder_contour[shoulder_contour[:, :, 0].argmin()][0])\n",
    "    shoulder_rightmost = tuple(shoulder_contour[shoulder_contour[:, :, 0].argmax()][0])\n",
    "    waist_leftmost = tuple(waist_contour[waist_contour[:, :, 0].argmin()][0])\n",
    "    waist_rightmost = tuple(waist_contour[waist_contour[:, :, 0].argmax()][0])\n",
    "\n",
    "    # Calculate the shoulder-to-waist ratio\n",
    "    shoulder_width = np.linalg.norm(np.array(shoulder_leftmost) - np.array(shoulder_rightmost))\n",
    "    waist_width = np.linalg.norm(np.array(waist_leftmost) - np.array(waist_rightmost))\n",
    "    ratio = shoulder_width / waist_width\n",
    "\n",
    "\n",
    "\n",
    "    return  ratio"
   ]
  },
  {
   "cell_type": "code",
   "execution_count": 5,
   "metadata": {},
   "outputs": [],
   "source": [
    "# Draw rectangles around the shoulders and waist\n",
    "\n"
   ]
  },
  {
   "cell_type": "code",
   "execution_count": 6,
   "metadata": {},
   "outputs": [
    {
     "data": {
      "text/plain": [
       "2.511031296905136"
      ]
     },
     "execution_count": 6,
     "metadata": {},
     "output_type": "execute_result"
    }
   ],
   "source": [
    "find_shoulder_and_waist(\"/Users/satyajeetkadu/Documents/Sem-9/IP LAB/ipproj/Fit.png\")"
   ]
  },
  {
   "cell_type": "code",
   "execution_count": 7,
   "metadata": {},
   "outputs": [
    {
     "data": {
      "text/plain": [
       "1.6282007441761892"
      ]
     },
     "execution_count": 7,
     "metadata": {},
     "output_type": "execute_result"
    }
   ],
   "source": [
    "find_shoulder_and_waist(\"/Users/satyajeetkadu/Documents/Sem-9/IP LAB/ipproj/skinny.png\")"
   ]
  },
  {
   "cell_type": "code",
   "execution_count": 6,
   "metadata": {},
   "outputs": [
    {
     "data": {
      "text/plain": [
       "1.1937274535310163"
      ]
     },
     "execution_count": 6,
     "metadata": {},
     "output_type": "execute_result"
    }
   ],
   "source": [
    "find_shoulder_and_waist(\"/Users/satyajeetkadu/Documents/Sem-9/IP LAB/ipproj/Fat.png\")"
   ]
  },
  {
   "cell_type": "code",
   "execution_count": 7,
   "metadata": {},
   "outputs": [
    {
     "data": {
      "text/plain": [
       "1.0169515393644255"
      ]
     },
     "execution_count": 7,
     "metadata": {},
     "output_type": "execute_result"
    }
   ],
   "source": [
    "find_shoulder_and_waist(\"/Users/satyajeetkadu/Documents/Sem-9/IP LAB/ipproj/cbum.png\")"
   ]
  },
  {
   "cell_type": "code",
   "execution_count": null,
   "metadata": {},
   "outputs": [],
   "source": []
  },
  {
   "cell_type": "code",
   "execution_count": null,
   "metadata": {},
   "outputs": [],
   "source": []
  },
  {
   "cell_type": "code",
   "execution_count": null,
   "metadata": {},
   "outputs": [],
   "source": []
  }
 ],
 "metadata": {
  "kernelspec": {
   "display_name": "Python 3",
   "language": "python",
   "name": "python3"
  },
  "language_info": {
   "codemirror_mode": {
    "name": "ipython",
    "version": 3
   },
   "file_extension": ".py",
   "mimetype": "text/x-python",
   "name": "python",
   "nbconvert_exporter": "python",
   "pygments_lexer": "ipython3",
   "version": "3.11.3"
  }
 },
 "nbformat": 4,
 "nbformat_minor": 2
}
